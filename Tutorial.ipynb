{
 "cells": [
  {
   "cell_type": "code",
   "execution_count": null,
   "metadata": {},
   "outputs": [],
   "source": [
    "to run presentation,  "
   ]
  },
  {
   "cell_type": "markdown",
   "metadata": {
    "slideshow": {
     "slide_type": "slide"
    }
   },
   "source": [
    "# Text Classification with BERT\n",
    "\n",
    "<img src=\"img/bert_reading.jpg\" style=\"width: 500px;\"/>"
   ]
  },
  {
   "cell_type": "markdown",
   "metadata": {
    "slideshow": {
     "slide_type": "slide"
    }
   },
   "source": [
    "## Workshop Goal in Machine Learning Jargon:\n",
    "\n",
    "_Leverage a **bidirectional masked language model** with a **transformer architecture** for **text classification** using **transfer learning**_"
   ]
  },
  {
   "cell_type": "markdown",
   "metadata": {
    "slideshow": {
     "slide_type": "fragment"
    }
   },
   "source": [
    "Right now, this should make no sense!\n",
    "\n",
    "But by the end of this workshop, you will not only understand what this means, but you will be able to use this method to train a state-of-the-art natural language processing model."
   ]
  },
  {
   "cell_type": "markdown",
   "metadata": {
    "slideshow": {
     "slide_type": "slide"
    }
   },
   "source": [
    "# The Road Ahead\n",
    "\n",
    "**Goal:** _Leverage a **bidirectional masked language model** with a **transformer architecture** for **text classification** using **transfer learning**_"
   ]
  },
  {
   "cell_type": "markdown",
   "metadata": {
    "slideshow": {
     "slide_type": "fragment"
    }
   },
   "source": [
    "1. Text Classification\n",
    "2. Transfer Learning\n",
    "3. Bidirectional Masked Language Model\n",
    "4. Transformer Architecture\n",
    "5. Put it all together!"
   ]
  }
 ],
 "metadata": {
  "celltoolbar": "Slideshow",
  "kernelspec": {
   "display_name": "BERT_tutorial_env",
   "language": "python",
   "name": "bert_tutorial_env"
  },
  "language_info": {
   "codemirror_mode": {
    "name": "ipython",
    "version": 3
   },
   "file_extension": ".py",
   "mimetype": "text/x-python",
   "name": "python",
   "nbconvert_exporter": "python",
   "pygments_lexer": "ipython3",
   "version": "3.6.5"
  }
 },
 "nbformat": 4,
 "nbformat_minor": 2
}
